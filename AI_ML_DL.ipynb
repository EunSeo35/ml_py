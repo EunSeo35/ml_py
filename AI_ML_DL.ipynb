{
 "cells": [
  {
   "cell_type": "code",
   "execution_count": 9,
   "metadata": {},
   "outputs": [
    {
     "data": {
      "text/plain": [
       "array([[52.]])"
      ]
     },
     "execution_count": 9,
     "metadata": {},
     "output_type": "execute_result"
    }
   ],
   "source": [
    "import numpy\n",
    "from sklearn import linear_model \n",
    "\n",
    "#입력값\n",
    "x_train = numpy.array([1,2,3,4,5,6,7]).reshape(-1,1)\n",
    "#결과값 - 정답 \n",
    "y_train = numpy.array([12,17,22,27,32,37,42]).reshape(-1,1).reshape(-1,1)\n",
    "\n",
    "#선형회귀 모델객체 \n",
    "model = linear_model.LinearRegression()\n",
    "\n",
    "#데이터 삽입 \n",
    "model.fit(x_train, y_train)\n",
    "\n",
    "#예측\n",
    "predict= model.predict([[9]])\n",
    "predict\n"
   ]
  },
  {
   "cell_type": "code",
   "execution_count": null,
   "metadata": {},
   "outputs": [],
   "source": []
  }
 ],
 "metadata": {
  "kernelspec": {
   "display_name": "Python 3.9.21 ('ml_env')",
   "language": "python",
   "name": "python3"
  },
  "language_info": {
   "codemirror_mode": {
    "name": "ipython",
    "version": 3
   },
   "file_extension": ".py",
   "mimetype": "text/x-python",
   "name": "python",
   "nbconvert_exporter": "python",
   "pygments_lexer": "ipython3",
   "version": "3.9.21"
  },
  "orig_nbformat": 4,
  "vscode": {
   "interpreter": {
    "hash": "7590e4804291e8975c18e5f91e098d1b2ddeed897382ad2ec2dae109422e640f"
   }
  }
 },
 "nbformat": 4,
 "nbformat_minor": 2
}
