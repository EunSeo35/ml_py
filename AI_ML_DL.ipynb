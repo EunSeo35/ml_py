{
 "cells": [
  {
   "cell_type": "code",
   "execution_count": 2,
   "metadata": {},
   "outputs": [
    {
     "data": {
      "text/plain": [
       "array([[52.]])"
      ]
     },
     "execution_count": 2,
     "metadata": {},
     "output_type": "execute_result"
    }
   ],
   "source": [
    "#ML\n",
    "\n",
    "import numpy\n",
    "from sklearn import linear_model \n",
    "\n",
    "#입력값\n",
    "x_train = numpy.array([1,2,3,4,5,6,7]).reshape(-1,1)\n",
    "#결과값 - 정답 \n",
    "y_train = numpy.array([12,17,22,27,32,37,42]).reshape(-1,1).reshape(-1,1)\n",
    "\n",
    "#선형회귀 모델객체 \n",
    "model = linear_model.LinearRegression()\n",
    "\n",
    "#데이터 삽입 \n",
    "model.fit(x_train, y_train)\n",
    "\n",
    "#예측\n",
    "predict= model.predict([[9]])\n",
    "predict\n"
   ]
  },
  {
   "cell_type": "code",
   "execution_count": 11,
   "metadata": {},
   "outputs": [
    {
     "name": "stdout",
     "output_type": "stream",
     "text": [
      "\u001b[1m1/1\u001b[0m \u001b[32m━━━━━━━━━━━━━━━━━━━━\u001b[0m\u001b[37m\u001b[0m \u001b[1m0s\u001b[0m 20ms/step\n"
     ]
    },
    {
     "data": {
      "text/plain": [
       "array([[52.09963]], dtype=float32)"
      ]
     },
     "execution_count": 11,
     "metadata": {},
     "output_type": "execute_result"
    }
   ],
   "source": [
    "#DL\n",
    "\n",
    "import tensorflow as tf \n",
    "\n",
    "x_train = numpy.array([1,2,3,4,5,6,7]).reshape(-1,1)\n",
    "y_train = numpy.array([12,17,22,27,32,37,42]).reshape(-1,1).reshape(-1,1)\n",
    "\n",
    "#입력층\n",
    "inputs = tf.keras.layers.Input(shape=(1,))\n",
    "#출력층\n",
    "outputs = tf.keras.layers.Dense(units=1)(inputs)\n",
    "\n",
    "#모델객체 생성 - 특정 모델을 지칭하지 않음\n",
    "model = tf.keras.models.Model(inputs,outputs)\n",
    "\n",
    "#모델 객체 속성 지정 - 손실함수, optimizer\n",
    "model.compile(\n",
    "    loss = tf.keras.losses.MeanSquaredError(),\n",
    "    optimizer = tf.keras.optimizers.SGD()\n",
    ")\n",
    "\n",
    "#학습\n",
    "model.fit(x_train, y_train, epochs = 1000, verbose = 0) #epochs: 학습횟수 , verbose: 0 과정 숨기기 1 보여주기 \n",
    "\n",
    "#예측\n",
    "predict= model.predict(numpy.array([[9]]))\n",
    "predict"
   ]
  },
  {
   "cell_type": "code",
   "execution_count": null,
   "metadata": {},
   "outputs": [],
   "source": []
  }
 ],
 "metadata": {
  "kernelspec": {
   "display_name": "Python 3.9.21 ('ml_env')",
   "language": "python",
   "name": "python3"
  },
  "language_info": {
   "codemirror_mode": {
    "name": "ipython",
    "version": 3
   },
   "file_extension": ".py",
   "mimetype": "text/x-python",
   "name": "python",
   "nbconvert_exporter": "python",
   "pygments_lexer": "ipython3",
   "version": "3.9.21"
  },
  "orig_nbformat": 4,
  "vscode": {
   "interpreter": {
    "hash": "7590e4804291e8975c18e5f91e098d1b2ddeed897382ad2ec2dae109422e640f"
   }
  }
 },
 "nbformat": 4,
 "nbformat_minor": 2
}
