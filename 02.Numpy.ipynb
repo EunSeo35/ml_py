{
 "cells": [
  {
   "cell_type": "markdown",
   "metadata": {},
   "source": [
    "## 1. 넘파이 ndarray 개요"
   ]
  },
  {
   "cell_type": "code",
   "execution_count": 9,
   "metadata": {},
   "outputs": [
    {
     "name": "stdout",
     "output_type": "stream",
     "text": [
      "<class 'numpy.ndarray'>\n",
      "(3,)\n",
      "<class 'numpy.ndarray'>\n",
      "(2, 3)\n",
      "<class 'numpy.ndarray'>\n",
      "(1, 3)\n",
      "array1:1차원, array2:2차원, array3: 2차원\n"
     ]
    }
   ],
   "source": [
    "import numpy as np\n",
    "\n",
    "array1 = np.array([1,2,3])\n",
    "print(type(array1))\n",
    "print(array1.shape)\n",
    "\n",
    "array2 = np.array([[1,2,3],\n",
    "                   [4,5,6]])\n",
    "print(type(array2))\n",
    "print(array2.shape)\n",
    "\n",
    "\n",
    "array3 = np.array([[1,2,3]])\n",
    "print(type(array3))\n",
    "print(array3.shape)\n",
    "\n",
    "print('array1:{0}차원, array2:{1}차원, array3: {2}차원'.format(array1.ndim, array2.ndim,array3.ndim))\n"
   ]
  },
  {
   "cell_type": "markdown",
   "metadata": {},
   "source": [
    "## 2. ndarray의 데이터 타입"
   ]
  },
  {
   "cell_type": "code",
   "execution_count": 17,
   "metadata": {},
   "outputs": [
    {
     "name": "stdout",
     "output_type": "stream",
     "text": [
      "<class 'list'>\n",
      "<class 'numpy.ndarray'>\n",
      "[1 2 3] int64\n",
      "['1' '2' 'test'] <U21\n",
      "[1. 2. 3.] float64\n"
     ]
    }
   ],
   "source": [
    "# 연산 특성상 같은 데이터 타입만 가능하다. \n",
    "# 데이터 타입이 섞여있을 시 데이터 터입이 더 큰 데이터 타입으로 변환된다. \n",
    "list1 = [1,2,3]\n",
    "print(type(list1))\n",
    "\n",
    "array1 = np.array(list1)\n",
    "print(type(array1))\n",
    "print(array1, array1.dtype)\n",
    "\n",
    "list2 = [1,2,'test']\n",
    "array2 = np.array(list2)\n",
    "print(array2, array2.dtype)\n",
    "\n",
    "list3 = [1,2,3.0]\n",
    "array3 = np.array(list3)\n",
    "print(array3, array3.dtype)\n"
   ]
  },
  {
   "cell_type": "code",
   "execution_count": 21,
   "metadata": {},
   "outputs": [
    {
     "name": "stdout",
     "output_type": "stream",
     "text": [
      "[1. 2. 3.] float64\n",
      "[1 2 3] int32\n",
      "[1 2 3] int32\n"
     ]
    }
   ],
   "source": [
    "# astype() : 데이터 타입 변경 \n",
    "# 메모리 절약을 위해 float -> int로 데이터 타입을 변경할 때가 있다. \n",
    "\n",
    "array_int = np.array([1,2,3])\n",
    "array_float = array_int.astype('float64')\n",
    "print(array_float,array_float.dtype)\n",
    "\n",
    "array_int1 = array_float.astype('int32')\n",
    "print(array_int1,array_int1.dtype)\n",
    "\n",
    "array_float1 = np.array([1.1,2.2,3.1])\n",
    "array_int2 = array_float1.astype('int32')\n",
    "print(array_int2,array_int2.dtype)\n"
   ]
  },
  {
   "cell_type": "markdown",
   "metadata": {},
   "source": [
    "## 3. ndarray를 편리하게 생성하기 : arange, zeros, ones\n",
    "\n",
    "- 테스트용 데이터를 만들거나 대규모 데이터를 일괄적으로 초기화할 경우에 사용된다.\n",
    "- 연속값이나 0,1로 초기화히여 ndarray를 쉽게 생성힌다."
   ]
  },
  {
   "cell_type": "code",
   "execution_count": 23,
   "metadata": {},
   "outputs": [
    {
     "name": "stdout",
     "output_type": "stream",
     "text": [
      "[0 1 2 3 4 5 6 7 8 9]\n",
      "int64 (10,)\n"
     ]
    }
   ],
   "source": [
    "# 1. arange(n) : 0 ~ n-1까지 순차적으로 값 부여 \n",
    "sequence_array = np.arange(10)\n",
    "print(sequence_array)\n",
    "print(sequence_array.dtype, sequence_array.shape)"
   ]
  },
  {
   "cell_type": "code",
   "execution_count": 29,
   "metadata": {},
   "outputs": [
    {
     "name": "stdout",
     "output_type": "stream",
     "text": [
      "[[0 0]\n",
      " [0 0]\n",
      " [0 0]]\n",
      "int32 (3, 2)\n",
      "[[1. 1.]\n",
      " [1. 1.]\n",
      " [1. 1.]]\n",
      "float64 (3, 2)\n"
     ]
    }
   ],
   "source": [
    "# 2. zeros: 0으로 값 채움 \n",
    "zero_array = np.zeros((3,2), dtype= \"int32\")\n",
    "print(zero_array)\n",
    "print(zero_array.dtype, zero_array.shape)\n",
    "# 3. ones: 1로 값 채움\n",
    "one_array = np.ones((3,2))\n",
    "print(one_array)\n",
    "print(one_array.dtype, one_array.shape)\n",
    "\n",
    "#dtype을 정하지 않으면 float형태로 반환"
   ]
  },
  {
   "cell_type": "markdown",
   "metadata": {},
   "source": [
    "## 4. ndarray 차원 크기 변경 : reshape()"
   ]
  },
  {
   "cell_type": "code",
   "execution_count": 34,
   "metadata": {},
   "outputs": [
    {
     "name": "stdout",
     "output_type": "stream",
     "text": [
      "array1:\n",
      " [0 1 2 3 4 5 6 7 8 9]\n",
      "array2:\n",
      " [[0 1 2 3 4]\n",
      " [5 6 7 8 9]]\n",
      "array3:\n",
      " [[0 1]\n",
      " [2 3]\n",
      " [4 5]\n",
      " [6 7]\n",
      " [8 9]]\n"
     ]
    }
   ],
   "source": [
    "array1 = np.arange(10)\n",
    "print('array1:\\n', array1)\n",
    "\n",
    "array2 = array1.reshape(2,5)\n",
    "print('array2:\\n', array2)\n",
    "\n",
    "array3  = array1.reshape(5,2)\n",
    "print('array3:\\n', array3)\n"
   ]
  },
  {
   "cell_type": "code",
   "execution_count": 35,
   "metadata": {},
   "outputs": [
    {
     "name": "stdout",
     "output_type": "stream",
     "text": [
      "array4:\n",
      " [[0 1 2 3 4]\n",
      " [5 6 7 8 9]]\n",
      "array5:\n",
      " [[0 1]\n",
      " [2 3]\n",
      " [4 5]\n",
      " [6 7]\n",
      " [8 9]]\n"
     ]
    }
   ],
   "source": [
    "# -1을 인자로 두면 알아서 차원을 맞추어준다. \n",
    "array4 = array1.reshape(-1,5)\n",
    "print('array4:\\n', array4)\n",
    "\n",
    "array5 = array1.reshape(5,-1)\n",
    "print('array5:\\n', array5)\n"
   ]
  },
  {
   "cell_type": "code",
   "execution_count": 47,
   "metadata": {},
   "outputs": [
    {
     "name": "stdout",
     "output_type": "stream",
     "text": [
      "array3d:\n",
      " [[[0, 1], [2, 3]], [[4, 5], [6, 7]]]\n",
      "array5:\n",
      " [[0], [1], [2], [3], [4], [5], [6], [7]]\n",
      "array5 shape (8, 1)\n",
      "array6:\n",
      " [[0], [1], [2], [3], [4], [5], [6], [7]]\n",
      "array6 shape (8, 1)\n"
     ]
    }
   ],
   "source": [
    "# reshape(-1,1) : 원본 ndarray를 여러 행과 단 1개의 열을 지닌 2차원 형태로 변환시킨다. \n",
    "\n",
    "array3d = array1.reshape(2,2,2)\n",
    "print('array3d:\\n', array3d.tolist())\n",
    "\n",
    "#3차원 -> 2차원\n",
    "array5 = array3d.reshape(-1,1)\n",
    "print('array5:\\n', array5.tolist())\n",
    "print('array5 shape', array5.shape)\n",
    "\n",
    "#1차원 -> 2차원\n",
    "array1 = np.arange(8)\n",
    "array6 = array1.reshape(-1,1)\n",
    "print('array6:\\n', array6.tolist())\n",
    "print('array6 shape', array6.shape)"
   ]
  },
  {
   "cell_type": "markdown",
   "metadata": {},
   "source": [
    "## 5. ndarray의 데이터 셋 선택하기 : 인덱싱"
   ]
  },
  {
   "cell_type": "code",
   "execution_count": 50,
   "metadata": {},
   "outputs": [
    {
     "name": "stdout",
     "output_type": "stream",
     "text": [
      "array1: [1 2 3 4 5 6 7 8 9]\n",
      "3 int64\n"
     ]
    }
   ],
   "source": [
    "array1 = np.arange(start=1, stop= 10)\n",
    "print(\"array1:\", array1)\n",
    "\n",
    "value = array1[2]\n",
    "print(value, value.dtype)"
   ]
  },
  {
   "cell_type": "code",
   "execution_count": 51,
   "metadata": {},
   "outputs": [
    {
     "name": "stdout",
     "output_type": "stream",
     "text": [
      "[10  2  3  4  5  6  7  8  0]\n"
     ]
    }
   ],
   "source": [
    "array1[0] = 10\n",
    "array1[-1] = 0\n",
    "print(array1)"
   ]
  },
  {
   "cell_type": "code",
   "execution_count": 61,
   "metadata": {},
   "outputs": [
    {
     "name": "stdout",
     "output_type": "stream",
     "text": [
      "[[1 2 3]\n",
      " [4 5 6]\n",
      " [7 8 9]]\n",
      "1\n",
      "[4 5 6]\n"
     ]
    }
   ],
   "source": [
    "array1d = np.arange(start=1, stop=10)\n",
    "array2d = array1d.reshape(3,3)\n",
    "print(array2d)\n",
    "\n",
    "print(array2d[0,0])\n",
    "print(array2d[1])"
   ]
  },
  {
   "cell_type": "code",
   "execution_count": 66,
   "metadata": {},
   "outputs": [
    {
     "name": "stdout",
     "output_type": "stream",
     "text": [
      "[10  2  3  4  5  6  7  8  0]\n",
      "[2 3] <class 'numpy.ndarray'>\n"
     ]
    }
   ],
   "source": [
    "# 슬라이싱 : \":\" 로 구간 정한다. \n",
    "print(array1)\n",
    "a = array1[1:3]\n",
    "print(a, type(a))"
   ]
  },
  {
   "cell_type": "code",
   "execution_count": 72,
   "metadata": {},
   "outputs": [
    {
     "name": "stdout",
     "output_type": "stream",
     "text": [
      "array2d\n",
      " [[1 2 3]\n",
      " [4 5 6]\n",
      " [7 8 9]]\n",
      "array3: [3, 6]\n",
      "array4: [[1, 2], [4, 5]]\n",
      "array5: [[1, 2, 3], [4, 5, 6]]\n"
     ]
    }
   ],
   "source": [
    "# 팬시 인덱싱: 인덱스 집합을 지정하는 인덱싱 \n",
    "print(\"array2d\\n\", array2d)\n",
    "\n",
    "array3 = array2d[[0,1],2]\n",
    "print(\"array3:\",array3.tolist())\n",
    "\n",
    "array4 = array2d[[0,1],0:2]\n",
    "print(\"array4:\",array4.tolist())\n",
    "\n",
    "array5 = array2d[[0,1]]\n",
    "print(\"array5:\",array5.tolist())\n",
    "\n"
   ]
  },
  {
   "cell_type": "code",
   "execution_count": 77,
   "metadata": {},
   "outputs": [
    {
     "name": "stdout",
     "output_type": "stream",
     "text": [
      "[1 2 3 4 5 6 7 8 9]\n",
      "array1d>5 불린 인덱싱 결과값 [6 7 8 9]\n",
      "[1 2 6 7 8 9]\n"
     ]
    }
   ],
   "source": [
    "# 불린 인덱싱 : 조건 필터링과 검색을 할 수 있는 인덱스 방식\n",
    "print(array1d)\n",
    "\n",
    "array3 = array1d[array1d>5]\n",
    "print(\"array1d>5 불린 인덱싱 결과값\", array3)\n",
    "\n",
    "boolean_indexes = np.array([True, True, False, False, False,  True,  True,  True,  True])\n",
    "array4 = array1d[boolean_indexes]\n",
    "print(array4)"
   ]
  },
  {
   "cell_type": "markdown",
   "metadata": {},
   "source": [
    "## 6. 행렬의 정렬 : sort(), argsort()\n",
    "- np.sort(): 원본 변경 X\n",
    "- ndarray.sort(): 원본 변경 \n",
    "- argsort() : 인덱스 반환"
   ]
  },
  {
   "cell_type": "code",
   "execution_count": 81,
   "metadata": {},
   "outputs": [
    {
     "name": "stdout",
     "output_type": "stream",
     "text": [
      "sort_array1: [1 3 5 9]\n",
      "호출 후 원본 행렬: [3 1 5 9]\n",
      "sort_array2: None\n",
      "호출 후 원본 행렬: [1 3 5 9]\n"
     ]
    }
   ],
   "source": [
    "org_array = np.array([3,1,5,9])\n",
    "\n",
    "#1. np.sort()\n",
    "sort_array1 = np.sort(org_array)\n",
    "print(\"sort_array1:\", sort_array1)\n",
    "print(\"호출 후 원본 행렬:\", org_array)\n",
    "\n",
    "#2. ndarray.sort()\n",
    "sort_array2 = org_array.sort()\n",
    "print(\"sort_array2:\", sort_array2)\n",
    "print(\"호출 후 원본 행렬:\", org_array)"
   ]
  },
  {
   "cell_type": "code",
   "execution_count": 83,
   "metadata": {},
   "outputs": [
    {
     "data": {
      "text/plain": [
       "array([9, 5, 3, 1])"
      ]
     },
     "execution_count": 83,
     "metadata": {},
     "output_type": "execute_result"
    }
   ],
   "source": [
    "# 내림차순 정렬 : [::-1]\n",
    "np.sort(org_array)[::-1]"
   ]
  },
  {
   "cell_type": "code",
   "execution_count": 84,
   "metadata": {},
   "outputs": [
    {
     "name": "stdout",
     "output_type": "stream",
     "text": [
      "row 방향으로 정렬:\n",
      " [[ 7  1]\n",
      " [ 8 12]]\n",
      "column 방향으로 정렬:\n",
      " [[ 8 12]\n",
      " [ 1  7]]\n"
     ]
    }
   ],
   "source": [
    "# 2차원 행렬 정렬하기 \n",
    "array2d = np.array([[8,12],\n",
    "                    [7,1]])\n",
    "\n",
    "sort_array2d_axis0 = np.sort(array2d, axis=0)\n",
    "print(\"row 방향으로 정렬:\\n\", sort_array2d_axis0)\n",
    "\n",
    "sort_array2d_axis1 = np.sort(array2d, axis=1)\n",
    "print(\"column 방향으로 정렬:\\n\", sort_array2d_axis1)"
   ]
  },
  {
   "cell_type": "code",
   "execution_count": 87,
   "metadata": {},
   "outputs": [
    {
     "name": "stdout",
     "output_type": "stream",
     "text": [
      "<class 'numpy.ndarray'>\n",
      "행렬 정렬 시 원본 행렬의 인덱스: [3 0 2 1]\n",
      "행렬 내림차순 정렬 시 원본 행렬의 인덱스: [1 2 0 3]\n"
     ]
    }
   ],
   "source": [
    "# 정렬된 행렬의 인덱스 반환하기 : np.argsort()\n",
    "org_array = np.array([2,6,3,1])\n",
    "sort_indices = np.argsort(org_array)\n",
    "print(type(sort_indices))\n",
    "print(\"행렬 정렬 시 원본 행렬의 인덱스:\", sort_indices)\n",
    "\n",
    "sort_indices = np.argsort(org_array)[::-1]\n",
    "print(\"행렬 내림차순 정렬 시 원본 행렬의 인덱스:\", sort_indices)"
   ]
  },
  {
   "cell_type": "markdown",
   "metadata": {},
   "source": [
    "넘파이의 ndarray는 RDBMS의 Table이나 pandas의 dataframe과 같은 메타 데이터를 가질 수 없다. 따라서 실제 값과 그 값과 매칭되는 메타 데이터를 별도의 ndarray로 가져야 한다. \n",
    "아래의 코드에서 예시를 들어보겠다. "
   ]
  },
  {
   "cell_type": "code",
   "execution_count": 90,
   "metadata": {},
   "outputs": [
    {
     "name": "stdout",
     "output_type": "stream",
     "text": [
      "성적 오름차순 정렬 시 score_array의 인덱스: [0 3 2 1]\n",
      "성적이 낮은 순으로 이름 출력: ['지수' '로제' '리사' '제니']\n"
     ]
    }
   ],
   "source": [
    "name_array = np.array(['지수','제니','리사','로제'])\n",
    "score_array = np.array([56,98,76,64])\n",
    "\n",
    "sort_indices_asc = np.argsort(score_array)\n",
    "print('성적 오름차순 정렬 시 score_array의 인덱스:', sort_indices_asc)\n",
    "print('성적이 낮은 순으로 이름 출력:', name_array[sort_indices_asc])"
   ]
  },
  {
   "cell_type": "markdown",
   "metadata": {},
   "source": [
    "## 7. 선형대수 연산: 행렬 내적과 전치 행렬 구하기"
   ]
  },
  {
   "cell_type": "code",
   "execution_count": 94,
   "metadata": {},
   "outputs": [
    {
     "name": "stdout",
     "output_type": "stream",
     "text": [
      "행렬 내적:\n",
      " [[ 58  64]\n",
      " [139 154]]\n"
     ]
    }
   ],
   "source": [
    "# 행렬 내적\n",
    "A = np.array([[1,2,3],\n",
    "              [4,5,6]])\n",
    "\n",
    "B = np.array([[7,8],\n",
    "              [9,10],\n",
    "              [11,12]])\n",
    "\n",
    "dot_product = np.dot(A,B)\n",
    "print(\"행렬 내적:\\n\" ,dot_product)"
   ]
  },
  {
   "cell_type": "code",
   "execution_count": 95,
   "metadata": {},
   "outputs": [
    {
     "name": "stdout",
     "output_type": "stream",
     "text": [
      "전치 행렬\n",
      " [[1 3]\n",
      " [2 4]]\n"
     ]
    }
   ],
   "source": [
    "# 전치 행렬 \n",
    "A = np.array([[1,2],\n",
    "              [3,4]])\n",
    "transpose_mat = np.transpose(A)\n",
    "print(\"전치 행렬\\n\", transpose_mat)"
   ]
  },
  {
   "cell_type": "code",
   "execution_count": null,
   "metadata": {},
   "outputs": [],
   "source": []
  }
 ],
 "metadata": {
  "kernelspec": {
   "display_name": "Python 3.9.21 ('ml_env')",
   "language": "python",
   "name": "python3"
  },
  "language_info": {
   "codemirror_mode": {
    "name": "ipython",
    "version": 3
   },
   "file_extension": ".py",
   "mimetype": "text/x-python",
   "name": "python",
   "nbconvert_exporter": "python",
   "pygments_lexer": "ipython3",
   "version": "3.9.21"
  },
  "orig_nbformat": 4,
  "vscode": {
   "interpreter": {
    "hash": "7590e4804291e8975c18e5f91e098d1b2ddeed897382ad2ec2dae109422e640f"
   }
  }
 },
 "nbformat": 4,
 "nbformat_minor": 2
}
