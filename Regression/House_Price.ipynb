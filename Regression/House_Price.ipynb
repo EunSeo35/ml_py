{
 "cells": [
  {
   "cell_type": "code",
   "execution_count": 1,
   "metadata": {},
   "outputs": [],
   "source": [
    "import warnings\n",
    "warnings.filterwarnings('ignore')\n",
    "import pandas as pd\n",
    "import numpy as np\n",
    "import seaborn as sns\n",
    "import matplotlib.pyplot as plt\n",
    "%matplotlib inline\n",
    "\n"
   ]
  },
  {
   "cell_type": "code",
   "execution_count": 2,
   "metadata": {},
   "outputs": [
    {
     "data": {
      "text/html": [
       "<div>\n",
       "<style scoped>\n",
       "    .dataframe tbody tr th:only-of-type {\n",
       "        vertical-align: middle;\n",
       "    }\n",
       "\n",
       "    .dataframe tbody tr th {\n",
       "        vertical-align: top;\n",
       "    }\n",
       "\n",
       "    .dataframe thead th {\n",
       "        text-align: right;\n",
       "    }\n",
       "</style>\n",
       "<table border=\"1\" class=\"dataframe\">\n",
       "  <thead>\n",
       "    <tr style=\"text-align: right;\">\n",
       "      <th></th>\n",
       "      <th>Id</th>\n",
       "      <th>MSSubClass</th>\n",
       "      <th>MSZoning</th>\n",
       "      <th>LotFrontage</th>\n",
       "      <th>LotArea</th>\n",
       "      <th>Street</th>\n",
       "      <th>Alley</th>\n",
       "      <th>LotShape</th>\n",
       "      <th>LandContour</th>\n",
       "      <th>Utilities</th>\n",
       "      <th>...</th>\n",
       "      <th>PoolArea</th>\n",
       "      <th>PoolQC</th>\n",
       "      <th>Fence</th>\n",
       "      <th>MiscFeature</th>\n",
       "      <th>MiscVal</th>\n",
       "      <th>MoSold</th>\n",
       "      <th>YrSold</th>\n",
       "      <th>SaleType</th>\n",
       "      <th>SaleCondition</th>\n",
       "      <th>SalePrice</th>\n",
       "    </tr>\n",
       "  </thead>\n",
       "  <tbody>\n",
       "    <tr>\n",
       "      <th>0</th>\n",
       "      <td>1</td>\n",
       "      <td>60</td>\n",
       "      <td>RL</td>\n",
       "      <td>65.0</td>\n",
       "      <td>8450</td>\n",
       "      <td>Pave</td>\n",
       "      <td>NaN</td>\n",
       "      <td>Reg</td>\n",
       "      <td>Lvl</td>\n",
       "      <td>AllPub</td>\n",
       "      <td>...</td>\n",
       "      <td>0</td>\n",
       "      <td>NaN</td>\n",
       "      <td>NaN</td>\n",
       "      <td>NaN</td>\n",
       "      <td>0</td>\n",
       "      <td>2</td>\n",
       "      <td>2008</td>\n",
       "      <td>WD</td>\n",
       "      <td>Normal</td>\n",
       "      <td>208500</td>\n",
       "    </tr>\n",
       "    <tr>\n",
       "      <th>1</th>\n",
       "      <td>2</td>\n",
       "      <td>20</td>\n",
       "      <td>RL</td>\n",
       "      <td>80.0</td>\n",
       "      <td>9600</td>\n",
       "      <td>Pave</td>\n",
       "      <td>NaN</td>\n",
       "      <td>Reg</td>\n",
       "      <td>Lvl</td>\n",
       "      <td>AllPub</td>\n",
       "      <td>...</td>\n",
       "      <td>0</td>\n",
       "      <td>NaN</td>\n",
       "      <td>NaN</td>\n",
       "      <td>NaN</td>\n",
       "      <td>0</td>\n",
       "      <td>5</td>\n",
       "      <td>2007</td>\n",
       "      <td>WD</td>\n",
       "      <td>Normal</td>\n",
       "      <td>181500</td>\n",
       "    </tr>\n",
       "    <tr>\n",
       "      <th>2</th>\n",
       "      <td>3</td>\n",
       "      <td>60</td>\n",
       "      <td>RL</td>\n",
       "      <td>68.0</td>\n",
       "      <td>11250</td>\n",
       "      <td>Pave</td>\n",
       "      <td>NaN</td>\n",
       "      <td>IR1</td>\n",
       "      <td>Lvl</td>\n",
       "      <td>AllPub</td>\n",
       "      <td>...</td>\n",
       "      <td>0</td>\n",
       "      <td>NaN</td>\n",
       "      <td>NaN</td>\n",
       "      <td>NaN</td>\n",
       "      <td>0</td>\n",
       "      <td>9</td>\n",
       "      <td>2008</td>\n",
       "      <td>WD</td>\n",
       "      <td>Normal</td>\n",
       "      <td>223500</td>\n",
       "    </tr>\n",
       "  </tbody>\n",
       "</table>\n",
       "<p>3 rows × 81 columns</p>\n",
       "</div>"
      ],
      "text/plain": [
       "   Id  MSSubClass MSZoning  LotFrontage  LotArea Street Alley LotShape  \\\n",
       "0   1          60       RL         65.0     8450   Pave   NaN      Reg   \n",
       "1   2          20       RL         80.0     9600   Pave   NaN      Reg   \n",
       "2   3          60       RL         68.0    11250   Pave   NaN      IR1   \n",
       "\n",
       "  LandContour Utilities  ... PoolArea PoolQC Fence MiscFeature MiscVal MoSold  \\\n",
       "0         Lvl    AllPub  ...        0    NaN   NaN         NaN       0      2   \n",
       "1         Lvl    AllPub  ...        0    NaN   NaN         NaN       0      5   \n",
       "2         Lvl    AllPub  ...        0    NaN   NaN         NaN       0      9   \n",
       "\n",
       "  YrSold  SaleType  SaleCondition  SalePrice  \n",
       "0   2008        WD         Normal     208500  \n",
       "1   2007        WD         Normal     181500  \n",
       "2   2008        WD         Normal     223500  \n",
       "\n",
       "[3 rows x 81 columns]"
      ]
     },
     "execution_count": 2,
     "metadata": {},
     "output_type": "execute_result"
    }
   ],
   "source": [
    "house_df_org = pd.read_csv('/Users/pakeunseo/Desktop/2024-2/multicampus/py_ml_env/data/house_price.csv')\n",
    "house_df = house_df_org.copy()\n",
    "house_df.head(3)\n"
   ]
  },
  {
   "cell_type": "code",
   "execution_count": 3,
   "metadata": {},
   "outputs": [
    {
     "name": "stdout",
     "output_type": "stream",
     "text": [
      "데이터 세트의 Shape: (1460, 81)\n",
      "\n",
      "전체 feature 들의 type \n",
      " object     43\n",
      "int64      35\n",
      "float64     3\n",
      "dtype: int64\n",
      "\n",
      "Null 컬럼과 그 건수:\n",
      "  PoolQC          1453\n",
      "MiscFeature     1406\n",
      "Alley           1369\n",
      "Fence           1179\n",
      "FireplaceQu      690\n",
      "LotFrontage      259\n",
      "GarageType        81\n",
      "GarageYrBlt       81\n",
      "GarageFinish      81\n",
      "GarageQual        81\n",
      "GarageCond        81\n",
      "BsmtExposure      38\n",
      "BsmtFinType2      38\n",
      "BsmtFinType1      37\n",
      "BsmtCond          37\n",
      "BsmtQual          37\n",
      "MasVnrArea         8\n",
      "MasVnrType         8\n",
      "Electrical         1\n",
      "dtype: int64\n"
     ]
    }
   ],
   "source": [
    "\n",
    "print('데이터 세트의 Shape:', house_df.shape)\n",
    "print('\\n전체 feature 들의 type \\n',house_df.dtypes.value_counts())\n",
    "isnull_series = house_df.isnull().sum()\n",
    "print('\\nNull 컬럼과 그 건수:\\n ', isnull_series[isnull_series > 0].sort_values(ascending=False))"
   ]
  },
  {
   "cell_type": "code",
   "execution_count": 4,
   "metadata": {},
   "outputs": [
    {
     "data": {
      "image/png": "[encoded data removed]",
      "text/plain": [
       "<Figure size 640x480 with 1 Axes>"
      ]
     },
     "metadata": {},
     "output_type": "display_data"
    }
   ],
   "source": [
    "plt.title('Original Sale Price Histogram')\n",
    "plt.xticks(rotation = 45)\n",
    "sns.histplot(house_df['SalePrice'], kde= True)\n",
    "plt.show()"
   ]
  },
  {
   "cell_type": "code",
   "execution_count": 6,
   "metadata": {},
   "outputs": [
    {
     "data": {
      "image/png": "[encoded data removed]",
      "text/plain": [
       "<Figure size 640x480 with 1 Axes>"
      ]
     },
     "metadata": {},
     "output_type": "display_data"
    }
   ],
   "source": [
    "#로그 변환\n",
    "#타겟을 정규 분포 형태로 반들기 위해 \n",
    "plt.title('Original Sale Price Histogram')\n",
    "log_SalePrice = np.log1p(house_df['SalePrice'])\n",
    "sns.histplot(log_SalePrice, kde= True)\n",
    "plt.show()"
   ]
  },
  {
   "cell_type": "code",
   "execution_count": 7,
   "metadata": {},
   "outputs": [
    {
     "name": "stdout",
     "output_type": "stream",
     "text": [
      "## Null 피처의 Type : \n",
      " MasVnrType      object\n",
      "BsmtQual        object\n",
      "BsmtCond        object\n",
      "BsmtExposure    object\n",
      "BsmtFinType1    object\n",
      "BsmtFinType2    object\n",
      "Electrical      object\n",
      "GarageType      object\n",
      "GarageFinish    object\n",
      "GarageQual      object\n",
      "GarageCond      object\n",
      "dtype: object\n"
     ]
    }
   ],
   "source": [
    "#SalePrice 로그 변환\n",
    "original_SalePrice = house_df['SalePrice']\n",
    "house_df['SalePrice'] = np.log1p( house_df['SalePrice'])\n",
    "\n",
    "#Null이 많은 열, 필요없는 열 제거\n",
    "house_df.drop(['Id','PoolQC','MiscFeature','Alley','Fence','FireplaceQu'], axis= 1, inplace= True)\n",
    "\n",
    "#드롭하지 않은 숫자형 null은 평균값으로 대체 \n",
    "house_df.fillna(house_df.mean(), inplace= True)\n",
    "\n",
    "#Null 값이 있는 피처명과 타입을 추출\n",
    "null_column_count = house_df.isnull().sum()[house_df.isnull().sum()>0]\n",
    "print('## Null 피처의 Type : \\n', house_df.dtypes[null_column_count.index])"
   ]
  },
  {
   "cell_type": "code",
   "execution_count": 9,
   "metadata": {},
   "outputs": [
    {
     "name": "stdout",
     "output_type": "stream",
     "text": [
      "get_dummies() 수행 전 데이터 shape: (1460, 75)\n",
      "get_dummies() 수행 후 데이터 shape: (1460, 271)\n",
      "## Null 피처의 Type : \n",
      " Series([], dtype: object)\n"
     ]
    }
   ],
   "source": [
    "#카데고리형 피처 원핫인코딩 \n",
    "print('get_dummies() 수행 전 데이터 shape:', house_df.shape)\n",
    "house_df_ohe = pd.get_dummies(house_df)\n",
    "print('get_dummies() 수행 후 데이터 shape:', house_df_ohe.shape)\n",
    "\n",
    "null_column_count = house_df_ohe.isnull().sum()[house_df_ohe.isnull().sum()>0]\n",
    "print('## Null 피처의 Type : \\n', house_df_ohe.dtypes[null_column_count.index])"
   ]
  },
  {
   "cell_type": "code",
   "execution_count": 12,
   "metadata": {},
   "outputs": [],
   "source": [
    "def get_rmse(model):\n",
    "    pred = model.predict(X_test)\n",
    "    mse = mean_squared_error(y_test, pred)\n",
    "    rmse = np.sqrt(mse)\n",
    "    print(model.__class__.__name__,'로그 변환된 RMSE :',np.round(rmse,3))\n",
    "    return rmse\n",
    "\n",
    "def get_rmses(models):\n",
    "    rmses = []\n",
    "    for model in models:\n",
    "        rmse = get_rmse(model)\n",
    "        rmses.append(rmse)\n",
    "        \n",
    "    return rmses"
   ]
  },
  {
   "cell_type": "code",
   "execution_count": 13,
   "metadata": {},
   "outputs": [
    {
     "name": "stdout",
     "output_type": "stream",
     "text": [
      "LinearRegression 로그 변환된 RMSE : 0.132\n",
      "Ridge 로그 변환된 RMSE : 0.128\n",
      "Lasso 로그 변환된 RMSE : 0.167\n"
     ]
    },
    {
     "data": {
      "text/plain": [
       "[0.1320553876753111, 0.12757257118391707, 0.16689807281803776]"
      ]
     },
     "execution_count": 13,
     "metadata": {},
     "output_type": "execute_result"
    }
   ],
   "source": [
    "from sklearn.linear_model import LinearRegression, Ridge, Lasso\n",
    "from sklearn.model_selection import train_test_split\n",
    "from sklearn.metrics import mean_squared_error\n",
    "\n",
    "y_target = house_df_ohe['SalePrice']\n",
    "X_featurues = house_df_ohe.drop(['SalePrice'], axis= 1, inplace= False)\n",
    "X_train, X_test, y_train, y_test = train_test_split(X_featurues, y_target, test_size=0.2, random_state=11)\n",
    "\n",
    "#LinearRegression, Ridge, Lasso 학습, 예측, 평가\n",
    "lr_reg = LinearRegression()\n",
    "lr_reg.fit(X_train, y_train)\n",
    "ridge_reg = Ridge()\n",
    "ridge_reg.fit(X_train, y_train)\n",
    "lasso_reg = Lasso()\n",
    "lasso_reg.fit(X_train, y_train)\n",
    "\n",
    "models = [lr_reg,ridge_reg,lasso_reg]\n",
    "get_rmses(models)"
   ]
  },
  {
   "cell_type": "code",
   "execution_count": 14,
   "metadata": {},
   "outputs": [],
   "source": [
    "#회귀 계수 값의 상하위 10개 피처명과 회귀 계수 값 파악 \n",
    "def get_top_botton_coef(model, n=10):\n",
    "    #coef_속성을 기반으로 Series 객체 생성.\n",
    "    coef = pd.Series(model.coef_, index= X_featurues.coluns)\n",
    "    \n",
    "    #상위, 하위 10개의 회귀 계수 추출\n",
    "    coef_high = coef.sort_values(ascending= False).head(n)\n",
    "    coef_low = coef.sort_values(ascending= False).tail(n)\n",
    "    return coef_high, coef_low"
   ]
  }
 ],
 "metadata": {
  "kernelspec": {
   "display_name": "Python 3.9.21 ('xgboost_env')",
   "language": "python",
   "name": "python3"
  },
  "language_info": {
   "codemirror_mode": {
    "name": "ipython",
    "version": 3
   },
   "file_extension": ".py",
   "mimetype": "text/x-python",
   "name": "python",
   "nbconvert_exporter": "python",
   "pygments_lexer": "ipython3",
   "version": "3.9.21"
  },
  "orig_nbformat": 4,
  "vscode": {
   "interpreter": {
    "hash": "f8ac004728821136a3dbde6cb2552433dfb7dc0f4c436e0e74daaf58dadac06c"
   }
  }
 },
 "nbformat": 4,
 "nbformat_minor": 2
}
