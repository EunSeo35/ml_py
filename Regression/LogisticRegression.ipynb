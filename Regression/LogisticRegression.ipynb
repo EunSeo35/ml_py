{
 "cells": [
  {
   "cell_type": "code",
   "execution_count": 2,
   "metadata": {},
   "outputs": [],
   "source": [
    "import pandas as pd\n",
    "import matplotlib.pyplot as plt\n",
    "\n",
    "from sklearn.datasets import load_breast_cancer\n",
    "from sklearn.model_selection import train_test_split\n",
    "from sklearn.linear_model import LogisticRegression\n",
    "\n",
    "\n",
    "cancer  = load_breast_cancer()"
   ]
  },
  {
   "cell_type": "code",
   "execution_count": 3,
   "metadata": {},
   "outputs": [],
   "source": [
    "from sklearn.preprocessing import StandardScaler\n",
    "\n",
    "#평균이 0, 분산이 1인 데이터 분포도로 변환\n",
    "scaler = StandardScaler()\n",
    "data_scaled = scaler.fit_transform(cancer.data)\n",
    "\n",
    "X_train, X_test, y_train, y_test = train_test_split(data_scaled, cancer.target, test_size=0.3, random_state=11)"
   ]
  },
  {
   "cell_type": "code",
   "execution_count": 7,
   "metadata": {},
   "outputs": [
    {
     "name": "stdout",
     "output_type": "stream",
     "text": [
      "accuracy: 0.953, roc_auc: 0.989\n"
     ]
    }
   ],
   "source": [
    "from sklearn.metrics import accuracy_score, roc_auc_score\n",
    "\n",
    "#로지스틱 회귀를 이용하여 학습 및 예측 수행\n",
    "#solver 인자 default는 solver = 'lbfgs'\n",
    "lr_clf = LogisticRegression()\n",
    "lr_clf.fit(X_train, y_train)\n",
    "lr_preds = lr_clf.predict(X_test)\n",
    "lr_preds_proba = lr_clf.predict_proba(X_test)[:,1]\n",
    "\n",
    "print('accuracy: {0:.3f}, roc_auc: {1:.3f}'.format(accuracy_score(y_test, lr_preds),\n",
    "                                                    roc_auc_score(y_test, lr_preds_proba)))"
   ]
  },
  {
   "cell_type": "code",
   "execution_count": 8,
   "metadata": {},
   "outputs": [
    {
     "name": "stdout",
     "output_type": "stream",
     "text": [
      "solver: liblinear ,accuracy: 0.959, roc_auc: 0.990\n",
      "solver: newton-cg ,accuracy: 0.953, roc_auc: 0.989\n",
      "solver: lbfgs ,accuracy: 0.953, roc_auc: 0.989\n",
      "solver: sag ,accuracy: 0.953, roc_auc: 0.989\n",
      "solver: saga ,accuracy: 0.953, roc_auc: 0.989\n"
     ]
    }
   ],
   "source": [
    "# 여러 solver 값 별로 LogisticRegression 학습 후 성능 평가 \n",
    "solvers = ['liblinear', 'newton-cg', 'lbfgs', 'sag', 'saga']\n",
    "\n",
    "for solver in solvers:\n",
    "    lr_clf = LogisticRegression(solver= solver, max_iter = 600)\n",
    "    lr_clf.fit(X_train, y_train)\n",
    "    lr_preds = lr_clf.predict(X_test)\n",
    "    lr_preds_proba = lr_clf.predict_proba(X_test)[:,1]\n",
    "\n",
    "    print('solver: {0} ,accuracy: {1:.3f}, roc_auc: {2:.3f}'.format(solver,\n",
    "                                                                    accuracy_score(y_test, lr_preds),\n",
    "                                                                    roc_auc_score(y_test, lr_preds_proba)))"
   ]
  },
  {
   "cell_type": "code",
   "execution_count": 13,
   "metadata": {},
   "outputs": [
    {
     "name": "stdout",
     "output_type": "stream",
     "text": [
      "Best parameter : {'C': 0.1, 'penalty': 'l2', 'solver': 'liblinear'}, Best_accuracy 0.9789102385593614\n"
     ]
    }
   ],
   "source": [
    "from sklearn.model_selection import GridSearchCV\n",
    "\n",
    "# params = {\n",
    "#     'solver': ['liblinear', 'lbfgs'],\n",
    "#     'penalty': ['l2', 'l1'],\n",
    "#     'C' : [0.01, 0.1, 1, 5, 10, ]\n",
    "# }\n",
    "params = [\n",
    "    {'solver': ['liblinear'], 'penalty': ['l1', 'l2'], 'C': [0.01, 0.1, 1, 5, 10, 100]},\n",
    "    {'solver': ['lbfgs', 'newton-cg'], 'penalty': ['l2'], 'C': [0.1, 1, 5, 10, 100]}\n",
    "]\n",
    "lr_clf = LogisticRegression(max_iter=1000)\n",
    "\n",
    "grid_clf = GridSearchCV(lr_clf, param_grid=params, scoring='accuracy', cv=3)\n",
    "grid_clf.fit(data_scaled, cancer.target)\n",
    "print(f'Best parameter : {grid_clf.best_params_}, Best_accuracy {grid_clf.best_score_}')"
   ]
  },
  {
   "cell_type": "code",
   "execution_count": 14,
   "metadata": {},
   "outputs": [
    {
     "name": "stdout",
     "output_type": "stream",
     "text": [
      "accuracy : 0.9649122807017544, roc_auc : 0.9581222056631894 \n"
     ]
    }
   ],
   "source": [
    "best_param = grid_clf.best_params_\n",
    "\n",
    "best_lr_clf = LogisticRegression(**best_param)\n",
    "best_lr_clf.fit(X_train, y_train)\n",
    "\n",
    "lr_preds = best_lr_clf.predict(X_test)\n",
    "lr_preds_proba = best_lr_clf.predict_log_proba(X_test)[:,1]\n",
    "\n",
    "print(f'accuracy : {accuracy_score(y_test, lr_preds)}, roc_auc : {roc_auc_score(y_test, lr_preds)} ')"
   ]
  },
  {
   "cell_type": "code",
   "execution_count": null,
   "metadata": {},
   "outputs": [],
   "source": []
  }
 ],
 "metadata": {
  "kernelspec": {
   "display_name": "Python 3.9.21 ('xgboost_env')",
   "language": "python",
   "name": "python3"
  },
  "language_info": {
   "codemirror_mode": {
    "name": "ipython",
    "version": 3
   },
   "file_extension": ".py",
   "mimetype": "text/x-python",
   "name": "python",
   "nbconvert_exporter": "python",
   "pygments_lexer": "ipython3",
   "version": "3.9.21"
  },
  "orig_nbformat": 4,
  "vscode": {
   "interpreter": {
    "hash": "f8ac004728821136a3dbde6cb2552433dfb7dc0f4c436e0e74daaf58dadac06c"
   }
  }
 },
 "nbformat": 4,
 "nbformat_minor": 2
}
